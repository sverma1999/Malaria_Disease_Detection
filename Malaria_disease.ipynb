{
 "cells": [
  {
   "cell_type": "code",
   "execution_count": 58,
   "metadata": {},
   "outputs": [],
   "source": [
    "# Import libraries\n",
    "from tensorflow.keras.layers import Input, Lambda, Dense, Flatten,Conv2D\n",
    "from tensorflow.keras.models import Model\n",
    "from tensorflow.keras.applications.vgg19 import VGG19\n",
    "from tensorflow.keras.applications.resnet50 import preprocess_input\n",
    "from tensorflow.keras.preprocessing import image\n",
    "from tensorflow.keras.preprocessing.image import ImageDataGenerator,load_img\n",
    "from tensorflow.keras.models import Sequential\n",
    "import numpy as np\n",
    "from glob import glob\n",
    "import matplotlib.pyplot as plt"
   ]
  },
  {
   "cell_type": "code",
   "execution_count": 41,
   "metadata": {},
   "outputs": [],
   "source": [
    "# re-size all the images to this\n",
    "IMAGE_SIZE = [224, 224]\n",
    "\n",
    "train_path = 'Dataset/Train'\n",
    "test_path = 'Dataset/Test'"
   ]
  },
  {
   "cell_type": "code",
   "execution_count": 19,
   "metadata": {},
   "outputs": [],
   "source": [
    "# Import the Vgg 19 library as shown below and add preprocessing layer to the front of VGG\n",
    "# Here we will be using imagenet weights\n",
    "\n",
    "vgg19 = VGG19(input_shape=IMAGE_SIZE + [3], weights='imagenet', include_top=False)"
   ]
  },
  {
   "cell_type": "code",
   "execution_count": 20,
   "metadata": {},
   "outputs": [
    {
     "name": "stdout",
     "output_type": "stream",
     "text": [
      "Model: \"vgg19\"\n",
      "_________________________________________________________________\n",
      " Layer (type)                Output Shape              Param #   \n",
      "=================================================================\n",
      " input_3 (InputLayer)        [(None, 224, 224, 3)]     0         \n",
      "                                                                 \n",
      " block1_conv1 (Conv2D)       (None, 224, 224, 64)      1792      \n",
      "                                                                 \n",
      " block1_conv2 (Conv2D)       (None, 224, 224, 64)      36928     \n",
      "                                                                 \n",
      " block1_pool (MaxPooling2D)  (None, 112, 112, 64)      0         \n",
      "                                                                 \n",
      " block2_conv1 (Conv2D)       (None, 112, 112, 128)     73856     \n",
      "                                                                 \n",
      " block2_conv2 (Conv2D)       (None, 112, 112, 128)     147584    \n",
      "                                                                 \n",
      " block2_pool (MaxPooling2D)  (None, 56, 56, 128)       0         \n",
      "                                                                 \n",
      " block3_conv1 (Conv2D)       (None, 56, 56, 256)       295168    \n",
      "                                                                 \n",
      " block3_conv2 (Conv2D)       (None, 56, 56, 256)       590080    \n",
      "                                                                 \n",
      " block3_conv3 (Conv2D)       (None, 56, 56, 256)       590080    \n",
      "                                                                 \n",
      " block3_conv4 (Conv2D)       (None, 56, 56, 256)       590080    \n",
      "                                                                 \n",
      " block3_pool (MaxPooling2D)  (None, 28, 28, 256)       0         \n",
      "                                                                 \n",
      " block4_conv1 (Conv2D)       (None, 28, 28, 512)       1180160   \n",
      "                                                                 \n",
      " block4_conv2 (Conv2D)       (None, 28, 28, 512)       2359808   \n",
      "                                                                 \n",
      " block4_conv3 (Conv2D)       (None, 28, 28, 512)       2359808   \n",
      "                                                                 \n",
      " block4_conv4 (Conv2D)       (None, 28, 28, 512)       2359808   \n",
      "                                                                 \n",
      " block4_pool (MaxPooling2D)  (None, 14, 14, 512)       0         \n",
      "                                                                 \n",
      " block5_conv1 (Conv2D)       (None, 14, 14, 512)       2359808   \n",
      "                                                                 \n",
      " block5_conv2 (Conv2D)       (None, 14, 14, 512)       2359808   \n",
      "                                                                 \n",
      " block5_conv3 (Conv2D)       (None, 14, 14, 512)       2359808   \n",
      "                                                                 \n",
      " block5_conv4 (Conv2D)       (None, 14, 14, 512)       2359808   \n",
      "                                                                 \n",
      " block5_pool (MaxPooling2D)  (None, 7, 7, 512)         0         \n",
      "                                                                 \n",
      "=================================================================\n",
      "Total params: 20,024,384\n",
      "Trainable params: 20,024,384\n",
      "Non-trainable params: 0\n",
      "_________________________________________________________________\n"
     ]
    }
   ],
   "source": [
    "vgg19.summary()"
   ]
  },
  {
   "cell_type": "code",
   "execution_count": 24,
   "metadata": {},
   "outputs": [],
   "source": [
    "# don't train existing weights\n",
    "for layer in vgg19.layers:\n",
    "    layer.trainable = False"
   ]
  },
  {
   "cell_type": "code",
   "execution_count": 22,
   "metadata": {},
   "outputs": [
    {
     "data": {
      "text/plain": [
       "['Dataset/Train/Parasite', 'Dataset/Train/Uninfected']"
      ]
     },
     "execution_count": 22,
     "metadata": {},
     "output_type": "execute_result"
    }
   ],
   "source": [
    "# Getting number of output classes\n",
    "folders = glob('Dataset/Train/*')\n",
    "folders"
   ]
  },
  {
   "cell_type": "code",
   "execution_count": 25,
   "metadata": {},
   "outputs": [],
   "source": [
    "\n",
    "# our layers - you can add more if you want\n",
    "x = Flatten()(vgg19.output)"
   ]
  },
  {
   "cell_type": "code",
   "execution_count": 31,
   "metadata": {},
   "outputs": [],
   "source": [
    "# len(folders) is our output layer\n",
    "# I am taking softmax and not sigmoid, because I am having two nodes, I could use sigmoid for one node.\n",
    "prediction = Dense(len(folders), activation='softmax')(x)\n",
    "\n",
    "# create a model object\n",
    "model = Model(inputs=vgg19.input, outputs=prediction)"
   ]
  },
  {
   "cell_type": "code",
   "execution_count": 32,
   "metadata": {},
   "outputs": [
    {
     "name": "stdout",
     "output_type": "stream",
     "text": [
      "Model: \"model_4\"\n",
      "_________________________________________________________________\n",
      " Layer (type)                Output Shape              Param #   \n",
      "=================================================================\n",
      " input_3 (InputLayer)        [(None, 224, 224, 3)]     0         \n",
      "                                                                 \n",
      " block1_conv1 (Conv2D)       (None, 224, 224, 64)      1792      \n",
      "                                                                 \n",
      " block1_conv2 (Conv2D)       (None, 224, 224, 64)      36928     \n",
      "                                                                 \n",
      " block1_pool (MaxPooling2D)  (None, 112, 112, 64)      0         \n",
      "                                                                 \n",
      " block2_conv1 (Conv2D)       (None, 112, 112, 128)     73856     \n",
      "                                                                 \n",
      " block2_conv2 (Conv2D)       (None, 112, 112, 128)     147584    \n",
      "                                                                 \n",
      " block2_pool (MaxPooling2D)  (None, 56, 56, 128)       0         \n",
      "                                                                 \n",
      " block3_conv1 (Conv2D)       (None, 56, 56, 256)       295168    \n",
      "                                                                 \n",
      " block3_conv2 (Conv2D)       (None, 56, 56, 256)       590080    \n",
      "                                                                 \n",
      " block3_conv3 (Conv2D)       (None, 56, 56, 256)       590080    \n",
      "                                                                 \n",
      " block3_conv4 (Conv2D)       (None, 56, 56, 256)       590080    \n",
      "                                                                 \n",
      " block3_pool (MaxPooling2D)  (None, 28, 28, 256)       0         \n",
      "                                                                 \n",
      " block4_conv1 (Conv2D)       (None, 28, 28, 512)       1180160   \n",
      "                                                                 \n",
      " block4_conv2 (Conv2D)       (None, 28, 28, 512)       2359808   \n",
      "                                                                 \n",
      " block4_conv3 (Conv2D)       (None, 28, 28, 512)       2359808   \n",
      "                                                                 \n",
      " block4_conv4 (Conv2D)       (None, 28, 28, 512)       2359808   \n",
      "                                                                 \n",
      " block4_pool (MaxPooling2D)  (None, 14, 14, 512)       0         \n",
      "                                                                 \n",
      " block5_conv1 (Conv2D)       (None, 14, 14, 512)       2359808   \n",
      "                                                                 \n",
      " block5_conv2 (Conv2D)       (None, 14, 14, 512)       2359808   \n",
      "                                                                 \n",
      " block5_conv3 (Conv2D)       (None, 14, 14, 512)       2359808   \n",
      "                                                                 \n",
      " block5_conv4 (Conv2D)       (None, 14, 14, 512)       2359808   \n",
      "                                                                 \n",
      " block5_pool (MaxPooling2D)  (None, 7, 7, 512)         0         \n",
      "                                                                 \n",
      " flatten (Flatten)           (None, 25088)             0         \n",
      "                                                                 \n",
      " dense_4 (Dense)             (None, 2)                 50178     \n",
      "                                                                 \n",
      "=================================================================\n",
      "Total params: 20,074,562\n",
      "Trainable params: 50,178\n",
      "Non-trainable params: 20,024,384\n",
      "_________________________________________________________________\n"
     ]
    }
   ],
   "source": [
    "# view the structure of the model\n",
    "model.summary()"
   ]
  },
  {
   "cell_type": "code",
   "execution_count": 35,
   "metadata": {},
   "outputs": [],
   "source": [
    "# tell the model what cost and optimization method to use\n",
    "# Note: Using 'categorical_crossentropy' beucase I have two nodes, for one node I could use 'binary_crossentropy'\n",
    "\n",
    "model.compile(\n",
    "  loss='categorical_crossentropy',\n",
    "  optimizer='adam',\n",
    "  metrics=['accuracy']\n",
    ")"
   ]
  },
  {
   "cell_type": "code",
   "execution_count": 37,
   "metadata": {},
   "outputs": [],
   "source": [
    "# Use the Image Data Generator to import the images from the dataset\n",
    "# Applying image augmentation in training data, to increase data set, with variations of the image.\n",
    "from tensorflow.keras.preprocessing.image import ImageDataGenerator\n",
    "\n",
    "train_datagen = ImageDataGenerator(rescale = 1./255,\n",
    "                                   shear_range = 0.2,\n",
    "                                   zoom_range = 0.2,\n",
    "                                   horizontal_flip = True)\n",
    "\n",
    "test_datagen = ImageDataGenerator(rescale = 1./255)"
   ]
  },
  {
   "cell_type": "code",
   "execution_count": 38,
   "metadata": {},
   "outputs": [
    {
     "name": "stdout",
     "output_type": "stream",
     "text": [
      "Found 416 images belonging to 2 classes.\n"
     ]
    }
   ],
   "source": [
    "# Make sure you provide the same target size as initialied for the image size\n",
    "training_set = train_datagen.flow_from_directory(train_path,\n",
    "                                                 target_size = (224, 224),\n",
    "                                                 batch_size = 32,\n",
    "                                                 class_mode = 'categorical')"
   ]
  },
  {
   "cell_type": "code",
   "execution_count": 39,
   "metadata": {},
   "outputs": [
    {
     "data": {
      "text/plain": [
       "<keras.preprocessing.image.DirectoryIterator at 0x7f9c1c0a4550>"
      ]
     },
     "execution_count": 39,
     "metadata": {},
     "output_type": "execute_result"
    }
   ],
   "source": [
    "\n",
    "training_set"
   ]
  },
  {
   "cell_type": "code",
   "execution_count": 42,
   "metadata": {},
   "outputs": [
    {
     "name": "stdout",
     "output_type": "stream",
     "text": [
      "Found 134 images belonging to 2 classes.\n"
     ]
    }
   ],
   "source": [
    "test_set = test_datagen.flow_from_directory(test_path,\n",
    "                                            target_size = (224, 224),\n",
    "                                            batch_size = 32,\n",
    "                                            class_mode = 'categorical')"
   ]
  },
  {
   "cell_type": "code",
   "execution_count": 44,
   "metadata": {
    "scrolled": false
   },
   "outputs": [
    {
     "name": "stderr",
     "output_type": "stream",
     "text": [
      "<ipython-input-44-69229fe26ea3>:3: UserWarning: `Model.fit_generator` is deprecated and will be removed in a future version. Please use `Model.fit`, which supports generators.\n",
      "  r = model.fit_generator(\n"
     ]
    },
    {
     "name": "stdout",
     "output_type": "stream",
     "text": [
      "Epoch 1/50\n",
      "13/13 [==============================] - 53s 4s/step - loss: 1.3596 - accuracy: 0.5264 - val_loss: 1.4526 - val_accuracy: 0.3284\n",
      "Epoch 2/50\n",
      "13/13 [==============================] - 58s 5s/step - loss: 0.7264 - accuracy: 0.6250 - val_loss: 0.5398 - val_accuracy: 0.6791\n",
      "Epoch 3/50\n",
      "13/13 [==============================] - 55s 4s/step - loss: 0.5938 - accuracy: 0.6875 - val_loss: 1.2004 - val_accuracy: 0.4254\n",
      "Epoch 4/50\n",
      "13/13 [==============================] - 59s 5s/step - loss: 0.5154 - accuracy: 0.7452 - val_loss: 0.4286 - val_accuracy: 0.7687\n",
      "Epoch 5/50\n",
      "13/13 [==============================] - 56s 4s/step - loss: 0.4045 - accuracy: 0.7957 - val_loss: 0.4276 - val_accuracy: 0.7910\n",
      "Epoch 6/50\n",
      "13/13 [==============================] - 57s 4s/step - loss: 0.3332 - accuracy: 0.8558 - val_loss: 0.4112 - val_accuracy: 0.8060\n",
      "Epoch 7/50\n",
      "13/13 [==============================] - 57s 4s/step - loss: 0.3795 - accuracy: 0.8101 - val_loss: 0.3701 - val_accuracy: 0.8209\n",
      "Epoch 8/50\n",
      "13/13 [==============================] - 57s 4s/step - loss: 0.3489 - accuracy: 0.8413 - val_loss: 0.6880 - val_accuracy: 0.6343\n",
      "Epoch 9/50\n",
      "13/13 [==============================] - 57s 4s/step - loss: 0.3087 - accuracy: 0.8486 - val_loss: 0.4061 - val_accuracy: 0.7537\n",
      "Epoch 10/50\n",
      "13/13 [==============================] - 58s 4s/step - loss: 0.3062 - accuracy: 0.8654 - val_loss: 0.5893 - val_accuracy: 0.6791\n",
      "Epoch 11/50\n",
      "13/13 [==============================] - 57s 4s/step - loss: 0.2797 - accuracy: 0.8870 - val_loss: 0.3713 - val_accuracy: 0.7836\n",
      "Epoch 12/50\n",
      "13/13 [==============================] - 58s 5s/step - loss: 0.2685 - accuracy: 0.8822 - val_loss: 0.5294 - val_accuracy: 0.7388\n",
      "Epoch 13/50\n",
      "13/13 [==============================] - 58s 4s/step - loss: 0.2356 - accuracy: 0.9111 - val_loss: 0.3160 - val_accuracy: 0.8731\n",
      "Epoch 14/50\n",
      "13/13 [==============================] - 58s 5s/step - loss: 0.2217 - accuracy: 0.9207 - val_loss: 0.2801 - val_accuracy: 0.8806\n",
      "Epoch 15/50\n",
      "13/13 [==============================] - 58s 5s/step - loss: 0.1979 - accuracy: 0.9279 - val_loss: 0.2861 - val_accuracy: 0.9030\n",
      "Epoch 16/50\n",
      "13/13 [==============================] - 58s 5s/step - loss: 0.2102 - accuracy: 0.9135 - val_loss: 0.3796 - val_accuracy: 0.7985\n",
      "Epoch 17/50\n",
      "13/13 [==============================] - 58s 5s/step - loss: 0.2584 - accuracy: 0.8942 - val_loss: 0.4236 - val_accuracy: 0.7612\n",
      "Epoch 18/50\n",
      "13/13 [==============================] - 59s 5s/step - loss: 0.1631 - accuracy: 0.9495 - val_loss: 0.2883 - val_accuracy: 0.8582\n",
      "Epoch 19/50\n",
      "13/13 [==============================] - 59s 5s/step - loss: 0.1604 - accuracy: 0.9519 - val_loss: 0.2461 - val_accuracy: 0.8955\n",
      "Epoch 20/50\n",
      "13/13 [==============================] - 58s 5s/step - loss: 0.1521 - accuracy: 0.9639 - val_loss: 0.2644 - val_accuracy: 0.9179\n",
      "Epoch 21/50\n",
      "13/13 [==============================] - 59s 5s/step - loss: 0.1648 - accuracy: 0.9399 - val_loss: 0.2611 - val_accuracy: 0.8955\n",
      "Epoch 22/50\n",
      "13/13 [==============================] - 59s 5s/step - loss: 0.1471 - accuracy: 0.9591 - val_loss: 0.2618 - val_accuracy: 0.8955\n",
      "Epoch 23/50\n",
      "13/13 [==============================] - 59s 5s/step - loss: 0.1303 - accuracy: 0.9591 - val_loss: 0.2388 - val_accuracy: 0.9254\n",
      "Epoch 24/50\n",
      "13/13 [==============================] - 61s 5s/step - loss: 0.1352 - accuracy: 0.9591 - val_loss: 0.2271 - val_accuracy: 0.9179\n",
      "Epoch 25/50\n",
      "13/13 [==============================] - 59s 5s/step - loss: 0.1279 - accuracy: 0.9591 - val_loss: 0.3285 - val_accuracy: 0.8209\n",
      "Epoch 26/50\n",
      "13/13 [==============================] - 59s 5s/step - loss: 0.1316 - accuracy: 0.9591 - val_loss: 0.2331 - val_accuracy: 0.9179\n",
      "Epoch 27/50\n",
      "13/13 [==============================] - 60s 5s/step - loss: 0.1416 - accuracy: 0.9519 - val_loss: 0.2229 - val_accuracy: 0.9179\n",
      "Epoch 28/50\n",
      "13/13 [==============================] - 64s 5s/step - loss: 0.1418 - accuracy: 0.9375 - val_loss: 0.2696 - val_accuracy: 0.8657\n",
      "Epoch 29/50\n",
      "13/13 [==============================] - 60s 5s/step - loss: 0.1282 - accuracy: 0.9663 - val_loss: 0.1994 - val_accuracy: 0.9254\n",
      "Epoch 30/50\n",
      "13/13 [==============================] - 59s 5s/step - loss: 0.1108 - accuracy: 0.9688 - val_loss: 0.3556 - val_accuracy: 0.8060\n",
      "Epoch 31/50\n",
      "13/13 [==============================] - 60s 5s/step - loss: 0.1170 - accuracy: 0.9639 - val_loss: 0.2105 - val_accuracy: 0.9403\n",
      "Epoch 32/50\n",
      "13/13 [==============================] - 59s 5s/step - loss: 0.1066 - accuracy: 0.9688 - val_loss: 0.3563 - val_accuracy: 0.8134\n",
      "Epoch 33/50\n",
      "13/13 [==============================] - 59s 5s/step - loss: 0.1137 - accuracy: 0.9615 - val_loss: 0.2134 - val_accuracy: 0.9328\n",
      "Epoch 34/50\n",
      "13/13 [==============================] - 59s 5s/step - loss: 0.1013 - accuracy: 0.9784 - val_loss: 0.2085 - val_accuracy: 0.9104\n",
      "Epoch 35/50\n",
      "13/13 [==============================] - 62s 5s/step - loss: 0.1034 - accuracy: 0.9760 - val_loss: 0.3013 - val_accuracy: 0.8507\n",
      "Epoch 36/50\n",
      "13/13 [==============================] - 60s 5s/step - loss: 0.1398 - accuracy: 0.9519 - val_loss: 0.2513 - val_accuracy: 0.8955\n",
      "Epoch 37/50\n",
      "13/13 [==============================] - 63s 5s/step - loss: 0.1135 - accuracy: 0.9591 - val_loss: 0.1900 - val_accuracy: 0.9328\n",
      "Epoch 38/50\n",
      "13/13 [==============================] - 65s 5s/step - loss: 0.0879 - accuracy: 0.9808 - val_loss: 0.2471 - val_accuracy: 0.8881\n",
      "Epoch 39/50\n",
      "13/13 [==============================] - 70s 5s/step - loss: 0.0887 - accuracy: 0.9784 - val_loss: 0.2318 - val_accuracy: 0.8881\n",
      "Epoch 40/50\n",
      "13/13 [==============================] - 68s 5s/step - loss: 0.0952 - accuracy: 0.9663 - val_loss: 0.2165 - val_accuracy: 0.9179\n",
      "Epoch 41/50\n",
      "13/13 [==============================] - 73s 6s/step - loss: 0.1077 - accuracy: 0.9543 - val_loss: 0.2414 - val_accuracy: 0.8806\n",
      "Epoch 42/50\n",
      "13/13 [==============================] - 72s 6s/step - loss: 0.1192 - accuracy: 0.9591 - val_loss: 0.3119 - val_accuracy: 0.8284\n",
      "Epoch 43/50\n",
      "13/13 [==============================] - 78s 6s/step - loss: 0.1288 - accuracy: 0.9495 - val_loss: 0.3388 - val_accuracy: 0.8134\n",
      "Epoch 44/50\n",
      "13/13 [==============================] - 85s 7s/step - loss: 0.0822 - accuracy: 0.9784 - val_loss: 0.1874 - val_accuracy: 0.9478\n",
      "Epoch 45/50\n",
      "13/13 [==============================] - 83s 6s/step - loss: 0.0733 - accuracy: 0.9856 - val_loss: 0.1936 - val_accuracy: 0.9179\n",
      "Epoch 46/50\n",
      "13/13 [==============================] - 80s 6s/step - loss: 0.0694 - accuracy: 0.9856 - val_loss: 0.1807 - val_accuracy: 0.9104\n",
      "Epoch 47/50\n",
      "13/13 [==============================] - 74s 6s/step - loss: 0.0791 - accuracy: 0.9760 - val_loss: 0.3528 - val_accuracy: 0.8209\n",
      "Epoch 48/50\n",
      "13/13 [==============================] - 82s 6s/step - loss: 0.0799 - accuracy: 0.9736 - val_loss: 0.2368 - val_accuracy: 0.8881\n",
      "Epoch 49/50\n",
      "13/13 [==============================] - 90s 7s/step - loss: 0.0853 - accuracy: 0.9760 - val_loss: 0.3522 - val_accuracy: 0.8209\n",
      "Epoch 50/50\n",
      "13/13 [==============================] - 80s 6s/step - loss: 0.1155 - accuracy: 0.9736 - val_loss: 0.6180 - val_accuracy: 0.7090\n"
     ]
    }
   ],
   "source": [
    "# fit the model\n",
    "# Run the cell. It will take some time to execute\n",
    "r = model.fit_generator(\n",
    "  training_set,\n",
    "  validation_data=test_set,\n",
    "  epochs=50,\n",
    "  steps_per_epoch=len(training_set),\n",
    "  validation_steps=len(test_set)\n",
    ")"
   ]
  },
  {
   "cell_type": "code",
   "execution_count": null,
   "metadata": {},
   "outputs": [],
   "source": []
  },
  {
   "cell_type": "code",
   "execution_count": 48,
   "metadata": {},
   "outputs": [
    {
     "name": "stdout",
     "output_type": "stream",
     "text": [
      "5/5 [==============================] - 14s 3s/step - loss: 0.6180 - accuracy: 0.7090\n"
     ]
    },
    {
     "data": {
      "text/plain": [
       "[0.6179931163787842, 0.7089552283287048]"
      ]
     },
     "execution_count": 48,
     "metadata": {},
     "output_type": "execute_result"
    }
   ],
   "source": [
    "scores = model.evaluate(test_set)\n",
    "scores"
   ]
  },
  {
   "cell_type": "code",
   "execution_count": 49,
   "metadata": {},
   "outputs": [
    {
     "data": {
      "text/plain": [
       "{'verbose': 1, 'epochs': 50, 'steps': 13}"
      ]
     },
     "execution_count": 49,
     "metadata": {},
     "output_type": "execute_result"
    }
   ],
   "source": [
    "r.params"
   ]
  },
  {
   "cell_type": "code",
   "execution_count": 50,
   "metadata": {},
   "outputs": [
    {
     "data": {
      "text/plain": [
       "dict_keys(['loss', 'accuracy', 'val_loss', 'val_accuracy'])"
      ]
     },
     "execution_count": 50,
     "metadata": {},
     "output_type": "execute_result"
    }
   ],
   "source": [
    "r.history.keys()"
   ]
  },
  {
   "cell_type": "code",
   "execution_count": 51,
   "metadata": {},
   "outputs": [],
   "source": [
    "loss = r.history['loss']\n",
    "val_loss = r.history['val_loss']\n",
    "\n",
    "accuracy = r.history['accuracy']\n",
    "val_accuracy = r.history['val_accuracy']"
   ]
  },
  {
   "cell_type": "code",
   "execution_count": 63,
   "metadata": {},
   "outputs": [
    {
     "data": {
      "image/png": "[encoded data removed]",
      "text/plain": [
       "<Figure size 432x288 with 1 Axes>"
      ]
     },
     "metadata": {
      "needs_background": "light"
     },
     "output_type": "display_data"
    },
    {
     "data": {
      "image/png": "[encoded data removed]",
      "text/plain": [
       "<Figure size 432x288 with 1 Axes>"
      ]
     },
     "metadata": {
      "needs_background": "light"
     },
     "output_type": "display_data"
    },
    {
     "data": {
      "text/plain": [
       "<Figure size 432x288 with 0 Axes>"
      ]
     },
     "metadata": {},
     "output_type": "display_data"
    }
   ],
   "source": [
    "# plot the loss\n",
    "plt.plot(loss, label='train loss')\n",
    "plt.plot(val_loss, label='val loss')\n",
    "plt.legend()\n",
    "plt.show()\n",
    "plt.savefig('LossVal_loss')\n",
    "\n",
    "# plot the accuracy\n",
    "plt.plot(accuracy, label='train acc')\n",
    "plt.plot(val_accuracy, label='val acc')\n",
    "plt.legend()\n",
    "plt.show()\n",
    "plt.savefig('AccVal_acc')"
   ]
  },
  {
   "cell_type": "code",
   "execution_count": null,
   "metadata": {},
   "outputs": [],
   "source": []
  },
  {
   "cell_type": "code",
   "execution_count": 62,
   "metadata": {
    "scrolled": true
   },
   "outputs": [],
   "source": [
    "# plt.figure(figsize=(15, 8))\n",
    "# plt.subplot(1, 2, 1)\n",
    "# plt.plot(range(50), accuracy, label='Training Accuracy')\n",
    "# plt.plot(range(50), val_accuracy, label='Validation Accuracy')\n",
    "# plt.legend(loc='lower right')\n",
    "# plt.title('Training and Validation Accuracy')\n",
    "\n",
    "# plt.subplot(1, 2, 2)\n",
    "# plt.plot(range(50), loss, label='Training Loss')\n",
    "# plt.plot(range(50), val_loss, label='Validation Loss')\n",
    "# plt.legend(loc='upper right')\n",
    "# plt.title('Training and Validation Loss')\n",
    "# plt.show()"
   ]
  },
  {
   "cell_type": "code",
   "execution_count": null,
   "metadata": {},
   "outputs": [],
   "source": []
  },
  {
   "cell_type": "code",
   "execution_count": null,
   "metadata": {},
   "outputs": [],
   "source": []
  },
  {
   "cell_type": "code",
   "execution_count": null,
   "metadata": {},
   "outputs": [],
   "source": []
  },
  {
   "cell_type": "code",
   "execution_count": 64,
   "metadata": {},
   "outputs": [],
   "source": [
    "\n",
    "# save it as a h5 file\n",
    "\n",
    "\n",
    "from tensorflow.keras.models import load_model\n",
    "\n",
    "model.save('Malaria_model_vgg19.h5')"
   ]
  },
  {
   "cell_type": "code",
   "execution_count": null,
   "metadata": {},
   "outputs": [],
   "source": []
  },
  {
   "cell_type": "code",
   "execution_count": null,
   "metadata": {},
   "outputs": [],
   "source": []
  },
  {
   "cell_type": "code",
   "execution_count": null,
   "metadata": {},
   "outputs": [],
   "source": []
  },
  {
   "cell_type": "code",
   "execution_count": null,
   "metadata": {},
   "outputs": [],
   "source": []
  },
  {
   "cell_type": "code",
   "execution_count": null,
   "metadata": {},
   "outputs": [],
   "source": []
  }
 ],
 "metadata": {
  "kernelspec": {
   "display_name": "MalariaProject",
   "language": "python",
   "name": "malariaproject"
  },
  "language_info": {
   "codemirror_mode": {
    "name": "ipython",
    "version": 3
   },
   "file_extension": ".py",
   "mimetype": "text/x-python",
   "name": "python",
   "nbconvert_exporter": "python",
   "pygments_lexer": "ipython3",
   "version": "3.11.2"
  }
 },
 "nbformat": 4,
 "nbformat_minor": 4
}
