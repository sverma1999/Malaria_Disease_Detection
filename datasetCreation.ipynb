{
 "cells": [
  {
   "cell_type": "code",
   "execution_count": null,
   "metadata": {},
   "outputs": [],
   "source": []
  },
  {
   "cell_type": "code",
   "execution_count": null,
   "metadata": {},
   "outputs": [],
   "source": [
    "import os\n",
    "import shutil\n",
    "import random\n",
    "\n",
    "def split_dataset(source_dir, output_dir, train_size=0.7, val_size=0.15, seed=None):\n",
    "    random.seed(seed)\n",
    "    \n",
    "    # Create the output directory if it doesn't exist\n",
    "    os.makedirs(output_dir, exist_ok=True)\n",
    "    \n",
    "    # Create the train, test, and validation directories\n",
    "    train_dir = os.path.join(output_dir, 'train')\n",
    "    test_dir = os.path.join(output_dir, 'test')\n",
    "    val_dir = os.path.join(output_dir, 'val')\n",
    "    os.makedirs(train_dir, exist_ok=True)\n",
    "    os.makedirs(test_dir, exist_ok=True)\n",
    "    os.makedirs(val_dir, exist_ok=True)\n",
    "    \n",
    "    # Iterate over the subdirectories in the source directory\n",
    "    for class_name in os.listdir(source_dir):\n",
    "        class_dir = os.path.join(source_dir, class_name)\n",
    "        if os.path.isdir(class_dir):\n",
    "            # Create the corresponding subdirectories in train, test, and validation directories\n",
    "            train_class_dir = os.path.join(train_dir, class_name)\n",
    "            test_class_dir = os.path.join(test_dir, class_name)\n",
    "            val_class_dir = os.path.join(val_dir, class_name)\n",
    "            os.makedirs(train_class_dir, exist_ok=True)\n",
    "            os.makedirs(test_class_dir, exist_ok=True)\n",
    "            os.makedirs(val_class_dir, exist_ok=True)\n",
    "            \n",
    "            # Get a list of all the image files in the class directory\n",
    "            image_files = [f for f in os.listdir(class_dir) if os.path.isfile(os.path.join(class_dir, f))]\n",
    "            \n",
    "            # Shuffle the image files\n",
    "            random.shuffle(image_files)\n",
    "            \n",
    "            # Calculate the number of images for each split\n",
    "            train_count = int(train_size * len(image_files))\n",
    "            val_count = int(val_size * len(image_files))\n",
    "            \n",
    "            # Assign images to train, test, and validation directories\n",
    "            for i, image_file in enumerate(image_files):\n",
    "                src_path = os.path.join(class_dir, image_file)\n",
    "                if i < train_count:\n",
    "                    dest_path = os.path.join(train_class_dir, image_file)\n",
    "                elif i < train_count + val_count:\n",
    "                    dest_path = os.path.join(val_class_dir, image_file)\n",
    "                else:\n",
    "                    dest_path = os.path.join(test_class_dir, image_file)\n",
    "                shutil.copy(src_path, dest_path)\n",
    "\n",
    "\n"
   ]
  },
  {
   "cell_type": "code",
   "execution_count": 4,
   "metadata": {},
   "outputs": [],
   "source": [
    "source_dir = 'cell_images'\n",
    "output_dir = 'Dataset'\n",
    "\n",
    "split_dataset(source_dir, output_dir, train_size=0.80, val_size=0.10, seed=42)"
   ]
  },
  {
   "cell_type": "code",
   "execution_count": null,
   "metadata": {},
   "outputs": [],
   "source": []
  },
  {
   "cell_type": "code",
   "execution_count": null,
   "metadata": {},
   "outputs": [],
   "source": []
  }
 ],
 "metadata": {
  "kernelspec": {
   "display_name": "Python 3.10.11 64-bit ('venvMDD')",
   "language": "python",
   "name": "python3"
  },
  "language_info": {
   "codemirror_mode": {
    "name": "ipython",
    "version": 3
   },
   "file_extension": ".py",
   "mimetype": "text/x-python",
   "name": "python",
   "nbconvert_exporter": "python",
   "pygments_lexer": "ipython3",
   "version": "3.10.11"
  },
  "vscode": {
   "interpreter": {
    "hash": "bf40aba487f5d724688699f0a66b512289a9d63499ee71632bb715a5e71bcf9d"
   }
  }
 },
 "nbformat": 4,
 "nbformat_minor": 4
}
